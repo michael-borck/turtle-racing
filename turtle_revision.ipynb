{
  "nbformat": 4,
  "nbformat_minor": 0,
  "metadata": {
    "colab": {
      "name": "turtle_revision.ipynb",
      "provenance": [],
      "include_colab_link": true
    },
    "kernelspec": {
      "name": "python3",
      "display_name": "Python 3"
    }
  },
  "cells": [
    {
      "cell_type": "markdown",
      "metadata": {
        "id": "view-in-github",
        "colab_type": "text"
      },
      "source": [
        "<a href=\"https://colab.research.google.com/github/michael-borck/turtle-racing/blob/main/turtle_revision.ipynb\" target=\"_parent\"><img src=\"https://colab.research.google.com/assets/colab-badge.svg\" alt=\"Open In Colab\"/></a>"
      ]
    },
    {
      "cell_type": "markdown",
      "source": [
        "# Turtle Revision\n",
        "\n",
        "In this notebook, you will:\n",
        "\n",
        "* Understand what the Python turtle library\n",
        "* Program with the Python turtle library\n",
        "* Review some important Python concepts\n",
        "  * sequence\n",
        "  * selection (conditionals, if-then)\n",
        "  * repetition (loops, for and while)\n",
        "  * create functions\n",
        "  * imports modules\n",
        "  * process user input\n",
        "\n",
        "\n"
      ],
      "metadata": {
        "id": "Jx1Y3XSQfAd7"
      }
    },
    {
      "cell_type": "code",
      "metadata": {
        "id": "2ISLuNPF2LKE"
      },
      "source": [
        "!pip install ColabTurtlePlus\n",
        "import ColabTurtlePlus.Turtle as turtle"
      ],
      "execution_count": null,
      "outputs": []
    },
    {
      "cell_type": "markdown",
      "source": [
        "## Moving the Turtle\n",
        "There are four directions that a turtle can move in:\n",
        "\n",
        "* Forward\n",
        "* Backward\n",
        "* Left\n",
        "* Right\n",
        "\n",
        "The turtle moves .forward() or .backward() in the direction that it’s facing. You can change this direction by turning it .left() or .right() by a certain degree. You can try each of these commands like so:"
      ],
      "metadata": {
        "id": "2rUuqWqFOP44"
      }
    },
    {
      "cell_type": "code",
      "source": [
        "# setup the canvas\n",
        "turtle.clearscreen()\n",
        "turtle.setup(300,300)\n",
        "\n",
        "# createa turtle\n",
        "snappy = turtle.Turtle()\n",
        "\n",
        "# draw\n",
        "snappy.right(90)\n",
        "snappy.forward(100)\n",
        "snappy.left(90)\n",
        "snappy.backward(100)"
      ],
      "metadata": {
        "id": "SviYXlw4KuJu"
      },
      "execution_count": null,
      "outputs": []
    },
    {
      "cell_type": "markdown",
      "source": [
        "## But I want a turtle!"
      ],
      "metadata": {
        "id": "VrW25t8GLNUn"
      }
    },
    {
      "cell_type": "code",
      "source": [
        "# setup the canvas\n",
        "turtle.clearscreen()\n",
        "turtle.setup(300,300)\n",
        "\n",
        "# createa turtle\n",
        "snappy = turtle.Turtle()\n",
        "snappy.shape('turtle')\n",
        "\n",
        "# draw\n",
        "snappy.right(90)\n",
        "snappy.forward(100)\n",
        "snappy.left(90)\n",
        "snappy.backward(100)"
      ],
      "metadata": {
        "id": "pRV6F7PpLSGb"
      },
      "execution_count": null,
      "outputs": []
    },
    {
      "cell_type": "markdown",
      "source": [
        "You have a couple of other options that you can try as well:\n",
        "\n",
        "* Square\n",
        "* Arrow\n",
        "* Circle\n",
        "* Turtle\n",
        "* Triangle\n",
        "* Classic\n",
        "\n",
        "The screen is divided into four quadrants. The point where the turtle is initially positioned at the beginning of your program is (0,0). This is called Home. To move the turtle to any other area on the screen, you use .jumpto() and enter the coordinates."
      ],
      "metadata": {
        "id": "zZBmjliPLuCK"
      }
    },
    {
      "cell_type": "code",
      "source": [
        "# setup the canvas\n",
        "turtle.clearscreen()\n",
        "turtle.setup(300,300)\n",
        "\n",
        "# createa turtle\n",
        "snappy = turtle.Turtle()\n",
        "snappy.shape('turtle')\n",
        "\n",
        "# draw\n",
        "snappy.right(90)\n",
        "snappy.forward(100)\n",
        "snappy.left(90)\n",
        "snappy.backward(100)\n",
        "\n",
        "snappy.jumpto(100,100)"
      ],
      "metadata": {
        "id": "o1Rk2okmL1cD"
      },
      "execution_count": null,
      "outputs": []
    },
    {
      "cell_type": "markdown",
      "source": [
        "# Drawing Preset Figures\n",
        "\n",
        "The Python turtle library has some preset shapes"
      ],
      "metadata": {
        "id": "kOFF9GfrMVnC"
      }
    },
    {
      "cell_type": "code",
      "source": [
        "# setup the canvas\n",
        "turtle.clearscreen()\n",
        "turtle.setup(300,300)\n",
        "\n",
        "# createa turtle\n",
        "snappy = turtle.Turtle()\n",
        "snappy.shape('turtle')\n",
        "\n",
        "snappy.circle(60)\n",
        "snappy.jumpto(-100,-110)\n",
        "snappy.dot(30)\n",
        "snappy.jumpto(-100, -50)\n"
      ],
      "metadata": {
        "id": "SKs1YALZMjOb"
      },
      "execution_count": null,
      "outputs": []
    },
    {
      "cell_type": "markdown",
      "source": [
        "You can change, turtle size, pen colour, line thickness, fill colour, background colour etc.  I wont go through them all but here is an example."
      ],
      "metadata": {
        "id": "sdeV02xHNOo4"
      }
    },
    {
      "cell_type": "code",
      "source": [
        "# setup the canvas\n",
        "turtle.clearscreen()\n",
        "turtle.setup(200,300)\n",
        "\n",
        "# create the turtle\n",
        "snappy = turtle.Turtle()\n",
        "\n",
        "# change a few settings\n",
        "snappy.pen(pencolor=\"purple\", fillcolor=\"orange\", pensize=10, speed=9)\n",
        "snappy.begin_fill()\n",
        "snappy.circle(50)\n",
        "snappy.end_fill()"
      ],
      "metadata": {
        "id": "H0G2oMEqJj24"
      },
      "execution_count": null,
      "outputs": []
    },
    {
      "cell_type": "markdown",
      "source": [
        "# Drawing a Shape\n",
        "\n",
        "Now that you know the movements of the turtle, you can move on to making actual shapes. We will start by drawing polygons since they all consist of straight lines connected at certain angles. "
      ],
      "metadata": {
        "id": "i5a98HkyNzmQ"
      }
    },
    {
      "cell_type": "code",
      "source": [
        "# setup the canvas\n",
        "turtle.clearscreen()\n",
        "turtle.setup(300,300)\n",
        "\n",
        "# create the turtle\n",
        "snappy = turtle.Turtle()\n",
        "\n",
        "snappy.forward(100)\n",
        "snappy.right(90)\n",
        "snappy.forward(100)\n",
        "snappy.right(90)\n",
        "snappy.forward(100)\n",
        "snappy.right(90)\n",
        "snappy.forward(100)"
      ],
      "metadata": {
        "id": "FSB2Ok-6OK3B"
      },
      "execution_count": null,
      "outputs": []
    },
    {
      "cell_type": "markdown",
      "source": [
        "# for loops\n",
        "\n",
        "A much shorter way to do this is with the help of a for loop. Try running this code:"
      ],
      "metadata": {
        "id": "JPy2OLUIPa-z"
      }
    },
    {
      "cell_type": "code",
      "source": [
        "# setup the canvas\n",
        "turtle.clearscreen()\n",
        "turtle.setup(300,300)\n",
        "\n",
        "# create the turtle\n",
        "snappy = turtle.Turtle()\n",
        "\n",
        "for i in range(4):\n",
        "  snappy.forward(100)\n",
        "  snappy.right(90)"
      ],
      "metadata": {
        "id": "_e-mq-hKPf71"
      },
      "execution_count": null,
      "outputs": []
    },
    {
      "cell_type": "markdown",
      "source": [
        "Here, the i is like a counter that starts from zero and keeps increasing by 1. When you say in range(4), you’re telling the program that the value of this i should be less than 4. It will terminate the program before i reaches 4.\n",
        "\n",
        "Here’s a breakdown of how the program works:\n",
        "\n",
        "* At i = 0, the turtle moves forward by 100 units and then turns 90 degrees to the right.\n",
        "* At i = 0 + 1 = 1, the turtle moves forward by 100 units and then turns 90 degrees to the right.\n",
        "* At i = 1 + 1 = 2, the turtle moves forward by 100 units and then turns 90 degrees to the right.\n",
        "* At i = 2 + 1 = 3, the turtle moves forward by 100 units and then turns 90 degrees to the right.\n",
        "\n",
        "*Lets print i*"
      ],
      "metadata": {
        "id": "8mX2udSEP5Yl"
      }
    },
    {
      "cell_type": "code",
      "source": [
        "print(i)"
      ],
      "metadata": {
        "id": "77HlP60RP-VN"
      },
      "execution_count": null,
      "outputs": []
    },
    {
      "cell_type": "markdown",
      "source": [
        "### While loops\n",
        "\n",
        "The while loop is used to perform a certain task while a condition is still satisfied. If the condition is no longer satisfied, then your code will terminate the process. You can use a while loop to create a series of circles by typing in this code:"
      ],
      "metadata": {
        "id": "ZUQJ_WqmQN7s"
      }
    },
    {
      "cell_type": "code",
      "source": [
        "n=10\n",
        "while n <= 40:\n",
        "  snappy.circle(n)\n",
        "  n = n+10"
      ],
      "metadata": {
        "id": "IEpqzTvLQYGN"
      },
      "execution_count": null,
      "outputs": []
    },
    {
      "cell_type": "markdown",
      "source": [
        "> Notice how I didn't reset the canvas this time, so we can still see the square.\n",
        "\n",
        "Here, n is used as a counter. You’ll need to specify by how much you want the value of n to increase in each loop. Take a look at this mini walk-through to see how the program works:\n",
        "\n",
        "* At n = 10, the turtle draws a circle with a radius of 10 units. After that, the value of n is increased by 10.\n",
        "* At n = 20, the turtle draws a circle with a radius of 20 units. Once again, the value of n is increased by 10.\n",
        "* At n = 30, the turtle draws a circle with a radius of 30 units. For the third time, the value of n is increased by 10.\n",
        "* At n = 40, the turtle draws a circle with a radius of 40 units. For the last time, the value of n is increased by 10.\n",
        "* At n = 50, n is no longer less than or equal to 40. The loop is terminated.\n",
        "\n",
        "### Functions\n",
        "\n",
        "We can semantically group instructions into a fucntion.  Let us create a square() and "
      ],
      "metadata": {
        "id": "-f5CBPRGQh0N"
      }
    },
    {
      "cell_type": "code",
      "source": [
        "def square(snappy):\n",
        "  for i in range(4):\n",
        "    snappy.forward(100)\n",
        "    snappy.right(90)\n",
        "\n",
        "def circles(snappy):\n",
        "  n=10\n",
        "  while n <= 40:\n",
        "    snappy.circle(n)\n",
        "    n = n+10\n",
        "\n",
        "# setup the canvas\n",
        "turtle.clearscreen()\n",
        "turtle.setup(300,300)\n",
        "\n",
        "# create the turtle\n",
        "snappy = turtle.Turtle()\n",
        "\n",
        "snappy.pen(pencolor=\"purple\", fillcolor=\"orange\", pensize=10, speed=9)\n",
        "snappy.begin_fill()\n",
        "square(snappy)\n",
        "circles(snappy)\n",
        "snappy.end_fill()"
      ],
      "metadata": {
        "id": "wW4mRITUR4zW"
      },
      "execution_count": null,
      "outputs": []
    },
    {
      "cell_type": "markdown",
      "source": [
        "### Conditional Statements\n",
        "\n",
        "You use conditional statements to check if a given condition is true. If it is, then the corresponding command is executed.\n",
        "\n"
      ],
      "metadata": {
        "id": "AY963jKwSqXl"
      }
    },
    {
      "cell_type": "code",
      "source": [
        "# setup the canvas\n",
        "turtle.clearscreen()\n",
        "turtle.setup(300,300)\n",
        "\n",
        "# create the turtle\n",
        "snappy = turtle.Turtle()\n",
        "\n",
        "answer = input(\"Would you like me to draw a shape? Type yes or no: \")\n",
        "if answer == \"yes\":\n",
        "  snappy.circle(50)"
      ],
      "metadata": {
        "id": "NrB8Oj7xS1Le"
      },
      "execution_count": null,
      "outputs": []
    },
    {
      "cell_type": "markdown",
      "source": [
        "`input()` is used to obtain input from the user. Here, it will store the user’s response under the variable `answer`. Next, it will check whether the value of `answer` is `yes`. If it’s `yes`, then your program draws a circle. If the user types in **anything** else, then the program won’t do anything.\n",
        "\n",
        "# Menu System\n",
        "\n",
        "Combining a while loop, input() and conditionals we can build a simple menu"
      ],
      "metadata": {
        "id": "8snEiSoFTMFr"
      }
    },
    {
      "cell_type": "code",
      "source": [
        "# define our shapes\n",
        "def octagon(turtle):         \n",
        "  for i in range (1,9): \n",
        "    turtle.forward(30)\n",
        "    turtle.right(45)\n",
        "\n",
        "def square(snappy):\n",
        "  for i in range(4):\n",
        "    snappy.forward(100)\n",
        "    snappy.right(90)\n",
        "\n",
        "# setup the canvas\n",
        "turtle.clearscreen()\n",
        "turtle.setup(300,300)\n",
        "\n",
        "# create the turtle\n",
        "snappy = turtle.Turtle()\n",
        "\n",
        "while True:\n",
        "  answer = input(\"What shape do you want to draw? C=Circle, O=Octagon, S=Square, Q=Quit \")\n",
        "  if answer[0].upper() == 'C':\n",
        "    snappy.circle(20)\n",
        "  elif answer[0].upper() == 'O':\n",
        "    octagon(snappy)\n",
        "  elif answer[0].upper() == 'S':\n",
        "    square(snappy)\n",
        "  elif answer[0].upper() == 'Q':\n",
        "    break\n",
        "  else:\n",
        "    print(f\"{answer} is invalid, please enter 'C', 'O', 'S' or 'Q'\")"
      ],
      "metadata": {
        "id": "XBAT9cFBUUbn"
      },
      "execution_count": null,
      "outputs": []
    },
    {
      "cell_type": "markdown",
      "source": [
        "# Lets save the image to a file\n",
        "\n",
        "The graphics are drawn using SVG tags. The SVG commands can be printed on screen (after the drawing is completed) or saved to a file for use in a program.  The following cell will save the canvas to a file called `SVGimage.svg`"
      ],
      "metadata": {
        "id": "_MYJ0xSQt1Wm"
      }
    },
    {
      "cell_type": "code",
      "source": [
        "turtle.saveSVG(turtle=True)"
      ],
      "metadata": {
        "id": "mStr_qhNt2C1"
      },
      "execution_count": null,
      "outputs": []
    },
    {
      "cell_type": "markdown",
      "source": [
        "Now download `SVGimage.svg` and include in what ever program you like."
      ],
      "metadata": {
        "id": "QfaYA8hOuLJU"
      }
    }
  ]
}