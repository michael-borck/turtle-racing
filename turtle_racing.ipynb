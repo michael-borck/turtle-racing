{
  "nbformat": 4,
  "nbformat_minor": 0,
  "metadata": {
    "colab": {
      "name": "turtle_racing.ipynb",
      "provenance": [],
      "include_colab_link": true
    },
    "kernelspec": {
      "name": "python3",
      "display_name": "Python 3"
    }
  },
  "cells": [
    {
      "cell_type": "markdown",
      "metadata": {
        "id": "view-in-github",
        "colab_type": "text"
      },
      "source": [
        "<a href=\"https://colab.research.google.com/github/michael-borck/turtle-racing/blob/main/turtle_racing.ipynb\" target=\"_parent\"><img src=\"https://colab.research.google.com/assets/colab-badge.svg\" alt=\"Open In Colab\"/></a>"
      ]
    },
    {
      "cell_type": "markdown",
      "source": [
        "# Turtle Racing\n",
        "\n",
        "You learned how to set up your turtle environment, move the turtle around the screen, and use loops, conditional statements and functions to improve your code. In this notebook, you’ll use that knowledge to create a game.\n",
        "\n",
        "### The Objective: \n",
        "\n",
        "The game is won by the person whose turtle arrives at its home first.\n",
        "\n",
        "### How to Play:\n",
        "\n",
        "* Each player takes turns rolling a die\n",
        "* The player moves their turtle by 10 time the die number of steps\n",
        "* Alternate turns until one player wins.\n",
        "\n",
        "### The Structure:\n",
        "\n",
        "For this tutorial, you’ll be creating a two-turtle game. Each turtle is a different colour. \n",
        "\n",
        "Each turtle has a home position.\n",
        "\n",
        "Simulate a six-sided die to choose a random value from 1 to 6.\n",
        "\n",
        "> Keep the initial interface to a simple text-based interface.  But think about how you might use forms or widgets to run the game.\n"
      ],
      "metadata": {
        "id": "KE4jR5-KmT2q"
      }
    },
    {
      "cell_type": "code",
      "source": [
        ""
      ],
      "metadata": {
        "id": "Y7GC0sNurl_3"
      },
      "execution_count": null,
      "outputs": []
    }
  ]
}