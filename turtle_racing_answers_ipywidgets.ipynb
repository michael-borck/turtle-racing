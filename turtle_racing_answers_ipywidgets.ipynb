{
  "nbformat": 4,
  "nbformat_minor": 0,
  "metadata": {
    "colab": {
      "name": "turtle_racing_answers_ipywidgets.ipynb",
      "provenance": [],
      "include_colab_link": true
    },
    "kernelspec": {
      "name": "python3",
      "display_name": "Python 3"
    }
  },
  "cells": [
    {
      "cell_type": "markdown",
      "metadata": {
        "id": "view-in-github",
        "colab_type": "text"
      },
      "source": [
        "<a href=\"https://colab.research.google.com/github/michael-borck/turtle-racing/blob/main/turtle_racing_answers_ipywidgets.ipynb\" target=\"_parent\"><img src=\"https://colab.research.google.com/assets/colab-badge.svg\" alt=\"Open In Colab\"/></a>"
      ]
    },
    {
      "cell_type": "markdown",
      "source": [
        "# Turtle Racing\n",
        "\n",
        "You learned how to set up your turtle environment, move the turtle around the screen, and use loops, conditional statements and functions to improve your code. In this notebook, you’ll use that knowledge to create a game.\n",
        "\n",
        "### The Objective: \n",
        "\n",
        "The game is won by the person whose turtle arrives at its home first.\n",
        "\n",
        "### How to Play:\n",
        "\n",
        "* Each player takes turns rolling a die\n",
        "* The player moves their turtle by 10 time the die number of steps\n",
        "* Alternate turns until one player wins.\n",
        "\n",
        "### The Structure:\n",
        "\n",
        "For this tutorial, you’ll be creating a two-turtle game. Each turtle is a different colour. \n",
        "\n",
        "Each turtle has a home position.\n",
        "\n",
        "Simulate a six-sided die to choose a random value from 1 to 6.\n",
        "\n",
        "### Discussion\n",
        "\n",
        "There are many ways to write this verison.  You may look at this and perhaps have different functions or structure the widgets differently.\n",
        "\n",
        "> Notice how I use the *shape* variable to change the text on the buttons and winning message."
      ],
      "metadata": {
        "id": "YkweyISTnQGh"
      }
    },
    {
      "cell_type": "code",
      "source": [
        "# Install library\n",
        "!pip install ColabTurtlePlus  > /dev/null 2>&1\n",
        "\n",
        "#@title Widget Version\n",
        "import ColabTurtlePlus.Turtle as turtle\n",
        "import ipywidgets as ipw\n",
        "import random\n",
        "\n",
        "shape = 'circle' #@param [\"turtle\", \"triangle\", \"circle\"] {allow-input: true}\n",
        "step_multiplier = 80 #@param {type:\"slider\", min:10, max:80, step:1}\n",
        "\n",
        "def create_turtle(colour, shape = shape):\n",
        "  hatchling = turtle.Turtle()\n",
        "  hatchling.color(colour)\n",
        "  hatchling.shape(shape)\n",
        "  hatchling.penup()\n",
        "  return hatchling\n",
        "\n",
        "\n",
        "def setup_turtle_home(snappy, start_x, start_y, end_x, end_y):\n",
        "  snappy.jumpto(end_x, end_y)\n",
        "  snappy.pendown()\n",
        "  snappy.circle(40)\n",
        "  snappy.penup()\n",
        "  snappy.jumpto(start_x, start_y)\n",
        "\n",
        "\n",
        "def turn(snappy, step_multiplier = step_multiplier):\n",
        "  die = [1,2,3,4,5,6]\n",
        "  die_outcome = random.choice(die)\n",
        "  steps = step_multiplier * die_outcome\n",
        "  snappy.forward(steps)\n",
        "\n",
        "\n",
        "def check_winner():\n",
        "  if green_turtle.pos() >= (300,100):\n",
        "    green_turtle.jumpto(300,100)\n",
        "    final_msg.value = f'<h1>Green {shape} Wins!</h1>'\n",
        "\n",
        "  if blue_turtle.pos() >= (300,-100):\n",
        "    blue_turtle.jumpto(300,-100) \n",
        "    final_msg.value = f'<h1>Blue {shape} Wins!</h1>'\n",
        "  \n",
        "  if green_turtle.pos() >= (300,100) or blue_turtle.pos() >= (300,-100):\n",
        "    # make the final message visible\n",
        "    final_msg.layout.visibility = \"visible\"\n",
        "    # game is over so disable the buttons\n",
        "    b_green_turtle.layout.visibility = 'hidden'\n",
        "    b_blue_turtle.layout.visibility = 'hidden'\n",
        "\n",
        "\n",
        "# Setup field\n",
        "turtle.clearscreen()\n",
        "turtle.setup(700,300)\n",
        "\n",
        "# setup players/turtles\n",
        "green_turtle = create_turtle('green')\n",
        "setup_turtle_home(green_turtle, -300, 100, 300, 60)\n",
        "blue_turtle = create_turtle('blue')\n",
        "setup_turtle_home(blue_turtle, -300, -100, 300, -140)\n",
        "\n",
        "\n",
        "# create player/turtle buttons\n",
        "b_green_turtle = ipw.Button(description=f\"Green {shape}\")\n",
        "b_green_turtle.layout.visibility = 'visible'\n",
        "b_blue_turtle = ipw.Button(description=f\"Blue {shape}\")\n",
        "b_blue_turtle.layout.visibility = 'visible'\n",
        "\n",
        "# Create game over widget\n",
        "final_msg = ipw.HTML(\"<h1>hidden</h1>\")\n",
        "final_msg.layout.visibility = \"hidden\"\n",
        "\n",
        "# layout the widgets\n",
        "btns = ipw.HBox([b_green_turtle, b_blue_turtle, final_msg])\n",
        "\n",
        "# setup the action when click button (callbacks)\n",
        "def click_green_turtle(b):\n",
        "  turn(green_turtle)\n",
        "  check_winner()\n",
        "b_green_turtle.on_click(click_green_turtle)\n",
        "\n",
        "def click_blue_turtle(b):\n",
        "  turn(blue_turtle)\n",
        "  check_winner()\n",
        "b_blue_turtle.on_click(click_blue_turtle)\n",
        "\n",
        "display(btns)"
      ],
      "metadata": {
        "cellView": "form",
        "id": "f3t_uhOhrodW"
      },
      "execution_count": null,
      "outputs": []
    },
    {
      "cell_type": "code",
      "source": [
        ""
      ],
      "metadata": {
        "id": "4j0-q8Rp3Kdx"
      },
      "execution_count": null,
      "outputs": []
    }
  ]
}