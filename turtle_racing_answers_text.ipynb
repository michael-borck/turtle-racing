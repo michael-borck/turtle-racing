{
  "nbformat": 4,
  "nbformat_minor": 0,
  "metadata": {
    "colab": {
      "name": "turtle_racing_answers_text.ipynb",
      "provenance": [],
      "include_colab_link": true
    },
    "kernelspec": {
      "name": "python3",
      "display_name": "Python 3"
    }
  },
  "cells": [
    {
      "cell_type": "markdown",
      "metadata": {
        "id": "view-in-github",
        "colab_type": "text"
      },
      "source": [
        "<a href=\"https://colab.research.google.com/github/michael-borck/turtle-racing/blob/main/turtle_racing_answers_text.ipynb\" target=\"_parent\"><img src=\"https://colab.research.google.com/assets/colab-badge.svg\" alt=\"Open In Colab\"/></a>"
      ]
    },
    {
      "cell_type": "markdown",
      "source": [
        "# Turtle Racing\n",
        "\n",
        "You learned how to set up your turtle environment, move the turtle around the screen, and use loops, conditional statements and functions to improve your code. In this notebook, you’ll use that knowledge to create a game.\n",
        "\n",
        "### The Objective: \n",
        "\n",
        "The game is won by the person whose turtle arrives at its home first.\n",
        "\n",
        "### How to Play:\n",
        "\n",
        "* Each player takes turns rolling a die\n",
        "* The player moves their turtle by 10 time the die number of steps\n",
        "* Alternate turns until one player wins.\n",
        "\n",
        "### The Structure:\n",
        "\n",
        "For this tutorial, you’ll be creating a two-turtle game. Each turtle is a different colour. \n",
        "\n",
        "Each turtle has a home position.\n",
        "\n",
        "Simulate a six-sided die to choose a random value from 1 to 6.\n",
        "\n",
        "### Discussion\n",
        "\n",
        "This notebook is the implementation of the design of the turtle-race program. It is expected that you would do a design before implementing. There are many ways to design this program. You may look at this and perhaps have different functions or structure the input differently.\n",
        "\n",
        "\n",
        "Could you use Colab forms to select the turtle colour from a drop-down? What about setting the shape or the step multiplier? Is there any other variable you could use to set up the game? Could we give each turtle a name? Would that make it more fun?"
      ],
      "metadata": {
        "id": "YkweyISTnQGh"
      }
    },
    {
      "cell_type": "code",
      "source": [
        "# Install library\n",
        "!pip install ColabTurtlePlus  > /dev/null 2>&1\n",
        "\n",
        "#@title Text Version\n",
        "import ColabTurtlePlus.Turtle as turtle\n",
        "import ipywidgets as ipw\n",
        "import random\n",
        "\n",
        "\n",
        "def create_turtle(colour):\n",
        "  hatchling = turtle.Turtle()\n",
        "  hatchling.color(colour)\n",
        "  hatchling.shape('turtle')\n",
        "  hatchling.penup()\n",
        "  return hatchling\n",
        "\n",
        "\n",
        "def setup_turtle_home(snappy, start_x, start_y, end_x, end_y):\n",
        "  snappy.jumpto(end_x, end_y)\n",
        "  snappy.pendown()\n",
        "  snappy.circle(40)\n",
        "  snappy.penup()\n",
        "  snappy.jumpto(start_x, start_y)\n",
        "\n",
        "\n",
        "def turn(snappy):\n",
        "  die = [1,2,3,4,5,6]\n",
        "  die_outcome = random.choice(die)\n",
        "  steps = 40 * die_outcome\n",
        "  snappy.forward(steps)\n",
        "\n",
        "\n",
        "def have_winner(green_turtle, blue_turtle):\n",
        "  green_won = green_turtle.pos() >= (300,100)\n",
        "  blue_won = blue_turtle.pos() >= (300,-100)\n",
        "\n",
        "  if green_won:\n",
        "    green_turtle.jumpto(300,100)\n",
        "    print('Green turtle wins!')\n",
        "    return True\n",
        "  \n",
        "  if blue_won:\n",
        "    blue_turtle.jumpto(300,-100) \n",
        "    print('Blue turtle wins!')\n",
        "    return True\n",
        "\n",
        "  return False  \n",
        "\n",
        "\n",
        "# Setup field\n",
        "turtle.clearscreen()\n",
        "turtle.setup(700,300)\n",
        "\n",
        "# setup players/turtles\n",
        "green_turtle = create_turtle('green')\n",
        "setup_turtle_home(green_turtle, -300, 100, 300, 60)\n",
        "blue_turtle = create_turtle('blue')\n",
        "setup_turtle_home(blue_turtle, -300, -100, 300, -140)\n",
        "\n",
        "while not have_winner(green_turtle, blue_turtle):\n",
        "  input(\"Enter for green turtle\")\n",
        "  turn(green_turtle)\n",
        "  input(\"Enter for blue turtle\")\n",
        "  turn(blue_turtle)\n",
        "  "
      ],
      "metadata": {
        "cellView": "form",
        "id": "f3t_uhOhrodW"
      },
      "execution_count": null,
      "outputs": []
    }
  ]
}